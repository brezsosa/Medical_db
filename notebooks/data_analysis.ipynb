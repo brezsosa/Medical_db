{
 "cells": [
  {
   "cell_type": "markdown",
   "id": "7a859f2e",
   "metadata": {},
   "source": [
    "# Data Analysis\n",
    "\n",
    "En este notebook simplemente se carga una tabla desde la base de datos como muestra y para chequear que este funcionando correctamente. \n",
    "\n",
    "Luego aqui se pueden realizar los trabajos de analisis de datos que se deseen."
   ]
  },
  {
   "cell_type": "code",
   "execution_count": null,
   "id": "d34559e4",
   "metadata": {},
   "outputs": [],
   "source": [
    "# Configuración de la Base de Datos\n",
    "DB_HOST = \"127.0.0.1\"  # O \"localhost\"\n",
    "DB_PORT = 3306\n",
    "DB_USER = \"root\"\n",
    "DB_PASSWORD = \"pass_05\" # Tiene que coincidir con el docker-compose\n",
    "DB_NAME = \"data_medical\"\n",
    "\n",
    "# Cadena de conexión para SQLAlchemy\n",
    "DATABASE_URL = f\"mysql+mysqlconnector://{DB_USER}:{DB_PASSWORD}@{DB_HOST}:{DB_PORT}/{DB_NAME}\""
   ]
  },
  {
   "cell_type": "code",
   "execution_count": null,
   "id": "6c4dfebf",
   "metadata": {},
   "outputs": [
    {
     "name": "stdout",
     "output_type": "stream",
     "text": [
      "Motor de base de datos creado exitosamente.\n",
      "\n",
      "DataFrame 'df_tratamientos' cargado exitosamente.\n",
      "Filas cargadas: 2371\n"
     ]
    }
   ],
   "source": [
    "import pandas as pd\n",
    "from sqlalchemy import create_engine\n",
    "import mysql.connector\n",
    "\n",
    "# Crear el \"engine\" de SQLAlchemy\n",
    "# Esto gestiona la conexión a la base de datos\n",
    "try:\n",
    "    engine = create_engine(DATABASE_URL)\n",
    "    print(\"Motor de base de datos creado exitosamente.\")\n",
    "except Exception as e:\n",
    "    print(f\"Error al crear el motor de base de datos: {e}\")\n",
    "    # Considera salir o manejar el error adecuadamente si el motor no se crea\n",
    "\n",
    "# --- Ejemplo 1: Cargar una tabla completa ---\n",
    "try:\n",
    "    df_tratamientos = pd.read_sql(\"SELECT * FROM tratamientos\", con=engine)\n",
    "    print(\"\\nDataFrame 'df_tratamientos' cargado exitosamente.\")\n",
    "    print(f\"Filas cargadas: {len(df_tratamientos)}\")\n",
    "except Exception as e:\n",
    "    print(f\"Error al cargar la tabla 'pacientes': {e}\")"
   ]
  },
  {
   "cell_type": "code",
   "execution_count": 4,
   "id": "c4514833",
   "metadata": {},
   "outputs": [
    {
     "name": "stdout",
     "output_type": "stream",
     "text": [
      "(2371, 4)\n"
     ]
    },
    {
     "data": {
      "text/html": [
       "<div>\n",
       "<style scoped>\n",
       "    .dataframe tbody tr th:only-of-type {\n",
       "        vertical-align: middle;\n",
       "    }\n",
       "\n",
       "    .dataframe tbody tr th {\n",
       "        vertical-align: top;\n",
       "    }\n",
       "\n",
       "    .dataframe thead th {\n",
       "        text-align: right;\n",
       "    }\n",
       "</style>\n",
       "<table border=\"1\" class=\"dataframe\">\n",
       "  <thead>\n",
       "    <tr style=\"text-align: right;\">\n",
       "      <th></th>\n",
       "      <th>paciente_id</th>\n",
       "      <th>medicacion_id</th>\n",
       "      <th>profesionales_id</th>\n",
       "      <th>diagnostico_id</th>\n",
       "    </tr>\n",
       "  </thead>\n",
       "  <tbody>\n",
       "    <tr>\n",
       "      <th>0</th>\n",
       "      <td>1</td>\n",
       "      <td>9</td>\n",
       "      <td>16</td>\n",
       "      <td>2</td>\n",
       "    </tr>\n",
       "    <tr>\n",
       "      <th>1</th>\n",
       "      <td>1</td>\n",
       "      <td>17</td>\n",
       "      <td>16</td>\n",
       "      <td>2</td>\n",
       "    </tr>\n",
       "    <tr>\n",
       "      <th>2</th>\n",
       "      <td>1</td>\n",
       "      <td>10</td>\n",
       "      <td>16</td>\n",
       "      <td>2</td>\n",
       "    </tr>\n",
       "    <tr>\n",
       "      <th>3</th>\n",
       "      <td>2</td>\n",
       "      <td>10</td>\n",
       "      <td>4</td>\n",
       "      <td>2</td>\n",
       "    </tr>\n",
       "    <tr>\n",
       "      <th>4</th>\n",
       "      <td>2</td>\n",
       "      <td>2</td>\n",
       "      <td>4</td>\n",
       "      <td>2</td>\n",
       "    </tr>\n",
       "  </tbody>\n",
       "</table>\n",
       "</div>"
      ],
      "text/plain": [
       "   paciente_id  medicacion_id  profesionales_id  diagnostico_id\n",
       "0            1              9                16               2\n",
       "1            1             17                16               2\n",
       "2            1             10                16               2\n",
       "3            2             10                 4               2\n",
       "4            2              2                 4               2"
      ]
     },
     "execution_count": 4,
     "metadata": {},
     "output_type": "execute_result"
    }
   ],
   "source": [
    "print(df_tratamientos.shape)\n",
    "df_tratamientos.head()"
   ]
  },
  {
   "cell_type": "code",
   "execution_count": 5,
   "id": "44f35a56",
   "metadata": {},
   "outputs": [
    {
     "name": "stdout",
     "output_type": "stream",
     "text": [
      "<class 'pandas.core.frame.DataFrame'>\n",
      "RangeIndex: 2371 entries, 0 to 2370\n",
      "Data columns (total 4 columns):\n",
      " #   Column            Non-Null Count  Dtype\n",
      "---  ------            --------------  -----\n",
      " 0   paciente_id       2371 non-null   int64\n",
      " 1   medicacion_id     2371 non-null   int64\n",
      " 2   profesionales_id  2371 non-null   int64\n",
      " 3   diagnostico_id    2371 non-null   int64\n",
      "dtypes: int64(4)\n",
      "memory usage: 74.2 KB\n"
     ]
    }
   ],
   "source": [
    "df_tratamientos.info()"
   ]
  }
 ],
 "metadata": {
  "kernelspec": {
   "display_name": "venv_db",
   "language": "python",
   "name": "python3"
  },
  "language_info": {
   "codemirror_mode": {
    "name": "ipython",
    "version": 3
   },
   "file_extension": ".py",
   "mimetype": "text/x-python",
   "name": "python",
   "nbconvert_exporter": "python",
   "pygments_lexer": "ipython3",
   "version": "3.13.3"
  }
 },
 "nbformat": 4,
 "nbformat_minor": 5
}
